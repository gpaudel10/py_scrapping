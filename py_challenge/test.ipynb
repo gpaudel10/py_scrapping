{
 "cells": [
  {
   "cell_type": "markdown",
   "metadata": {},
   "source": [
    "#### Data Manipulation"
   ]
  },
  {
   "cell_type": "code",
   "execution_count": 1,
   "metadata": {},
   "outputs": [],
   "source": [
    "import pandas as pd\n",
    "import sqlite3\n",
    "# import seaborn as sns"
   ]
  },
  {
   "cell_type": "code",
   "execution_count": null,
   "metadata": {},
   "outputs": [
    {
     "name": "stdout",
     "output_type": "stream",
     "text": [
      "dataset info:\n",
      "<class 'pandas.core.frame.DataFrame'>\n",
      "RangeIndex: 567 entries, 0 to 566\n",
      "Data columns (total 28 columns):\n",
      " #   Column             Non-Null Count  Dtype \n",
      "---  ------             --------------  ----- \n",
      " 0   name               567 non-null    object\n",
      " 1   year               567 non-null    int64 \n",
      " 2   make               567 non-null    object\n",
      " 3   model              567 non-null    object\n",
      " 4   badge              567 non-null    object\n",
      " 5   series             486 non-null    object\n",
      " 6   build_date         567 non-null    object\n",
      " 7   odometer           567 non-null    int64 \n",
      " 8   body_type          567 non-null    object\n",
      " 9   fuel               567 non-null    object\n",
      " 10  transmission       567 non-null    object\n",
      " 11  transmission_type  567 non-null    object\n",
      " 12  seats              567 non-null    int64 \n",
      " 13  doors              567 non-null    int64 \n",
      " 14  drive_type         567 non-null    object\n",
      " 15  provider           567 non-null    object\n",
      " 16  location           567 non-null    object\n",
      " 17  city               567 non-null    object\n",
      " 18  state              567 non-null    object\n",
      " 19  price              567 non-null    int64 \n",
      " 20  price_type         567 non-null    object\n",
      " 21  car_type           567 non-null    object\n",
      " 22  stock_number       567 non-null    object\n",
      " 23  vin                567 non-null    object\n",
      " 24  rego               486 non-null    object\n",
      " 25  status             567 non-null    object\n",
      " 26  colour             567 non-null    object\n",
      " 27  link_to_the_car    567 non-null    object\n",
      "dtypes: int64(5), object(23)\n",
      "memory usage: 124.2+ KB\n",
      "None\n",
      "\n",
      "Sample of the data:\n",
      "                                     name  year    make        model  \\\n",
      "0     2009 Toyota Landcruiser GXL UZJ200R  2009  Toyota  Landcruiser   \n",
      "1  2016 Toyota Landcruiser GXL VDJ79R 4X4  2016  Toyota  Landcruiser   \n",
      "2          2021 Audi A5 45 TFSI S line F5  2021    Audi           A5   \n",
      "3                2015 Mazda CX-3 Akari DK  2015   Mazda         CX-3   \n",
      "4           2023 Nissan Navara ST D23 4X4  2023  Nissan       Navara   \n",
      "\n",
      "            badge   series  build_date  odometer    body_type    fuel  ...  \\\n",
      "0             GXL  UZJ200R  2009-09-01    307232        Wagon  Petrol  ...   \n",
      "1             GXL   VDJ79R  2016-02-01     67917  Cab Chassis  Diesel  ...   \n",
      "2  45 TFSI S line       F5  2021-07-01     55317    Hatchback  Petrol  ...   \n",
      "3           Akari       DK  2015-02-01     57091        Wagon  Petrol  ...   \n",
      "4              ST      D23  2023-06-01        35      Utility  Diesel  ...   \n",
      "\n",
      "  state  price  price_type  car_type stock_number                vin    rego  \\\n",
      "0   VIC  35990  Drive Away      used        C1176  JTMHT09J104033460  1YL8WT   \n",
      "1   VIC  92990  Drive Away      used        C1279  JTEBV71J207006797  1ZF7RJ   \n",
      "2   VIC  55990  Drive Away      used        C2464  WAUZZZF5XNA002020  BTD011   \n",
      "3   VIC  22990  Drive Away      used        C2251  JM0DK2W7A00102351  AEC567   \n",
      "4   VIC  54888  Drive Away      demo      2837522  MNTCBND23A0029887  DDG105   \n",
      "\n",
      "     status  colour                                    link_to_the_car  \n",
      "0      sold  Silver  https://www.peterstevensmotorworld.com.au/vehi...  \n",
      "1      sold  Silver  https://www.peterstevensmotorworld.com.au/vehi...  \n",
      "2      sold   Black  https://www.peterstevensmotorworld.com.au/vehi...  \n",
      "3  in_stock     Red  https://www.peterstevensmotorworld.com.au/vehi...  \n",
      "4  in_stock    Grey  https://www.peterstevensmotorworld.com.au/vehi...  \n",
      "\n",
      "[5 rows x 28 columns]\n",
      "              year       odometer       seats       doors         price\n",
      "count   567.000000     567.000000  567.000000  567.000000    567.000000\n",
      "mean   2018.952381   68701.142857    5.380952    4.666667  37475.952381\n",
      "std       4.351539   74431.981977    0.950836    0.471821  17108.190913\n",
      "min    2009.000000      35.000000    5.000000    4.000000  13490.000000\n",
      "25%    2016.000000    3000.000000    5.000000    4.000000  22990.000000\n",
      "50%    2020.000000   64746.000000    5.000000    5.000000  36999.000000\n",
      "75%    2023.000000   73335.000000    5.000000    5.000000  40888.000000\n",
      "max    2024.000000  307232.000000    8.000000    5.000000  92990.000000\n"
     ]
    }
   ],
   "source": [
    "# to read from db\n",
    "# def load_from_db(db_path='car_data.db'):\n",
    "#     conn = sqlite3.connect(db_path)\n",
    "#     df = pd.read_sql_query(\"SELECT * FROM cars\", conn)\n",
    "#     conn.close()\n",
    "#     return df\n",
    "\n",
    "# to read from csv\n",
    "def load_from_csv(csv_path='cars_data_20250117_220702.csv'):\n",
    "    return pd.read_csv(csv_path)\n",
    "\n",
    "# df = load_from_db()  \n",
    "df = load_from_csv()   \n",
    "\n",
    "# Basic data exploration\n",
    "print(\"dataset info:\")\n",
    "print(df.info())\n",
    "print(\"\\nSample of the data:\")\n",
    "print(df.head())\n",
    "\n",
    "\n",
    "print(df.describe())\n",
    "\n",
    "\n"
   ]
  },
  {
   "cell_type": "code",
   "execution_count": null,
   "metadata": {},
   "outputs": [],
   "source": []
  }
 ],
 "metadata": {
  "kernelspec": {
   "display_name": "venv",
   "language": "python",
   "name": "python3"
  },
  "language_info": {
   "codemirror_mode": {
    "name": "ipython",
    "version": 3
   },
   "file_extension": ".py",
   "mimetype": "text/x-python",
   "name": "python",
   "nbconvert_exporter": "python",
   "pygments_lexer": "ipython3",
   "version": "3.12.3"
  }
 },
 "nbformat": 4,
 "nbformat_minor": 2
}
